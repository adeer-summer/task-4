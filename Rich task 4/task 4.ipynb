{
 "cells": [
  {
   "cell_type": "code",
   "execution_count": 1,
   "metadata": {},
   "outputs": [],
   "source": [
    "import cv2"
   ]
  },
  {
   "cell_type": "code",
   "execution_count": 2,
   "metadata": {},
   "outputs": [],
   "source": [
    "import numpy \n",
    "#len(tCrop[5][5])\n",
    "#tCrop[5][5].shape"
   ]
  },
  {
   "cell_type": "code",
   "execution_count": 3,
   "metadata": {},
   "outputs": [],
   "source": [
    "photo1=cv2.imread('tes.jpg')\n",
    "photo2=cv2.imread('OIP6.jpg')\n",
    "photo3=cv2.imread('OIP5.jpg')\n",
    "photo4=cv2.imread('OIP0.jpg')\n",
    "photo5=cv2.imread('OIP1.jpg')\n",
    "photo6=cv2.imread('OIP2.jpg')\n",
    "photo7=cv2.imread('OIP3.jpg')\n",
    "photo8=cv2.imread('OIP4.jpg')\n",
    "photo9=cv2.imread('alliance.jpg')"
   ]
  },
  {
   "cell_type": "code",
   "execution_count": 4,
   "metadata": {},
   "outputs": [],
   "source": [
    "#TASK 1"
   ]
  },
  {
   "cell_type": "code",
   "execution_count": 5,
   "metadata": {},
   "outputs": [],
   "source": [
    "#Generate an image\n",
    "#R, G, B= 255, 255, 255\n",
    "#TASK1\n",
    "geneImg=numpy.zeros((750, 750, 3))\n",
    "#tVar=cv2.cvtColor(geneImg, )\n",
    "#for i in range(len(geneImg)):\n",
    "    #for j in range(len(geneImg[-1])):\n",
    "geneImg[:,:]=[255, 255, 255]"
   ]
  },
  {
   "cell_type": "code",
   "execution_count": 6,
   "metadata": {},
   "outputs": [],
   "source": [
    "cv2.imshow('Initial image', geneImg)\n",
    "cv2.waitKey()\n",
    "cv2.destroyAllWindows()"
   ]
  },
  {
   "cell_type": "code",
   "execution_count": 7,
   "metadata": {},
   "outputs": [],
   "source": [
    "cv2.circle(geneImg,(375, 375), 300, (0, 0, 0), 5)\n",
    "cv2.circle(geneImg,(375, 375), 297, (255, 0,0), -3)\n",
    "cv2.circle(geneImg,(375, 375), 225, (255, 255, 255), 25)\n",
    "cv2.circle(geneImg,(375, 375), 200, (0, 255, 255), -3)\n",
    "\n",
    "cv2.ellipse(geneImg,(375,375),(300,300),60,0,60,(0,0,0),-1)\n",
    "cv2.ellipse(geneImg,(375,375),(300,300),60,120,180,(0,0,0),-1)\n",
    "cv2.ellipse(geneImg,(375,375),(300,300),60,240,300,(0,0,0),-1)\n",
    "cv2.imshow('image',geneImg)  \n",
    "cv2.waitKey(0)  \n",
    "cv2.destroyAllWindows()  "
   ]
  },
  {
   "cell_type": "code",
   "execution_count": null,
   "metadata": {},
   "outputs": [],
   "source": []
  },
  {
   "cell_type": "code",
   "execution_count": 8,
   "metadata": {},
   "outputs": [],
   "source": [
    "#TASK 2"
   ]
  },
  {
   "cell_type": "code",
   "execution_count": 9,
   "metadata": {},
   "outputs": [],
   "source": [
    "cv2.imshow('title', photo1)\n",
    "cv2.waitKey()\n",
    "cv2.destroyAllWindows()"
   ]
  },
  {
   "cell_type": "code",
   "execution_count": 10,
   "metadata": {},
   "outputs": [
    {
     "data": {
      "text/plain": [
       "(930, 1600, 3)"
      ]
     },
     "execution_count": 10,
     "metadata": {},
     "output_type": "execute_result"
    }
   ],
   "source": [
    "photo1.shape"
   ]
  },
  {
   "cell_type": "code",
   "execution_count": 11,
   "metadata": {},
   "outputs": [],
   "source": [
    "cv2.imshow('title', photo9)\n",
    "cv2.waitKey()\n",
    "cv2.destroyAllWindows()"
   ]
  },
  {
   "cell_type": "code",
   "execution_count": 12,
   "metadata": {},
   "outputs": [
    {
     "data": {
      "text/plain": [
       "(1080, 1920, 3)"
      ]
     },
     "execution_count": 12,
     "metadata": {},
     "output_type": "execute_result"
    }
   ],
   "source": [
    "photo9.shape"
   ]
  },
  {
   "cell_type": "code",
   "execution_count": 13,
   "metadata": {},
   "outputs": [],
   "source": [
    "tCrop=photo1[:930, :800]"
   ]
  },
  {
   "cell_type": "code",
   "execution_count": 14,
   "metadata": {},
   "outputs": [],
   "source": [
    "cv2.imshow('Cropping first piece', tCrop)\n",
    "cv2.waitKey()\n",
    "cv2.destroyAllWindows()"
   ]
  },
  {
   "cell_type": "code",
   "execution_count": 15,
   "metadata": {},
   "outputs": [],
   "source": [
    "tCrop1=photo1[:930, 800:]"
   ]
  },
  {
   "cell_type": "code",
   "execution_count": 16,
   "metadata": {},
   "outputs": [],
   "source": [
    "cv2.imshow('second piece', tCrop1)\n",
    "cv2.waitKey()\n",
    "cv2.destroyAllWindows()"
   ]
  },
  {
   "cell_type": "code",
   "execution_count": 17,
   "metadata": {},
   "outputs": [],
   "source": [
    "tCrop2=photo9[:930, :800]"
   ]
  },
  {
   "cell_type": "code",
   "execution_count": 18,
   "metadata": {},
   "outputs": [],
   "source": [
    "cv2.imshow('second piece', tCrop2)\n",
    "cv2.waitKey()\n",
    "cv2.destroyAllWindows()"
   ]
  },
  {
   "cell_type": "code",
   "execution_count": 19,
   "metadata": {},
   "outputs": [],
   "source": [
    "tCrop3=photo9[:930, -801:-1]"
   ]
  },
  {
   "cell_type": "code",
   "execution_count": 20,
   "metadata": {},
   "outputs": [],
   "source": [
    "cv2.imshow('second piece', tCrop3)\n",
    "cv2.waitKey()\n",
    "cv2.destroyAllWindows()"
   ]
  },
  {
   "cell_type": "code",
   "execution_count": 21,
   "metadata": {},
   "outputs": [],
   "source": [
    "## swapping\n",
    "testCom=numpy.hstack((tCrop, tCrop3))\n",
    "testCom1=numpy.hstack((tCrop1, tCrop2))"
   ]
  },
  {
   "cell_type": "code",
   "execution_count": 22,
   "metadata": {},
   "outputs": [],
   "source": [
    "# Final result of the first swap\n",
    "cv2.imshow('second piece', testCom)\n",
    "cv2.waitKey()\n",
    "cv2.destroyAllWindows()"
   ]
  },
  {
   "cell_type": "code",
   "execution_count": 23,
   "metadata": {},
   "outputs": [],
   "source": [
    "# Final result of the second swap\n",
    "cv2.imshow('second piece', testCom1)\n",
    "cv2.waitKey()\n",
    "cv2.destroyAllWindows()"
   ]
  },
  {
   "cell_type": "code",
   "execution_count": null,
   "metadata": {},
   "outputs": [],
   "source": []
  },
  {
   "cell_type": "code",
   "execution_count": 24,
   "metadata": {},
   "outputs": [],
   "source": [
    "#TASK 3"
   ]
  },
  {
   "cell_type": "code",
   "execution_count": 25,
   "metadata": {},
   "outputs": [],
   "source": [
    "cv2.imshow('title', photo2)\n",
    "cv2.waitKey()\n",
    "cv2.destroyAllWindows()\n"
   ]
  },
  {
   "cell_type": "code",
   "execution_count": 26,
   "metadata": {},
   "outputs": [
    {
     "data": {
      "text/plain": [
       "(180, 115, 3)"
      ]
     },
     "execution_count": 26,
     "metadata": {},
     "output_type": "execute_result"
    }
   ],
   "source": [
    "photo2.shape"
   ]
  },
  {
   "cell_type": "code",
   "execution_count": 27,
   "metadata": {},
   "outputs": [],
   "source": [
    "cv2.imshow('title', photo3)\n",
    "cv2.waitKey()\n",
    "cv2.destroyAllWindows()"
   ]
  },
  {
   "cell_type": "code",
   "execution_count": 28,
   "metadata": {},
   "outputs": [
    {
     "data": {
      "text/plain": [
       "(180, 331, 3)"
      ]
     },
     "execution_count": 28,
     "metadata": {},
     "output_type": "execute_result"
    }
   ],
   "source": [
    "photo3.shape"
   ]
  },
  {
   "cell_type": "code",
   "execution_count": 29,
   "metadata": {},
   "outputs": [],
   "source": [
    "cv2.imshow('title', photo4)\n",
    "cv2.waitKey()\n",
    "cv2.destroyAllWindows()\n"
   ]
  },
  {
   "cell_type": "code",
   "execution_count": 30,
   "metadata": {},
   "outputs": [
    {
     "data": {
      "text/plain": [
       "(180, 115, 3)"
      ]
     },
     "execution_count": 30,
     "metadata": {},
     "output_type": "execute_result"
    }
   ],
   "source": [
    "photo4.shape"
   ]
  },
  {
   "cell_type": "code",
   "execution_count": 31,
   "metadata": {},
   "outputs": [],
   "source": [
    "cv2.imshow('title', photo5)\n",
    "cv2.waitKey()\n",
    "cv2.destroyAllWindows()\n"
   ]
  },
  {
   "cell_type": "code",
   "execution_count": 32,
   "metadata": {},
   "outputs": [
    {
     "data": {
      "text/plain": [
       "(180, 115, 3)"
      ]
     },
     "execution_count": 32,
     "metadata": {},
     "output_type": "execute_result"
    }
   ],
   "source": [
    "photo5.shape"
   ]
  },
  {
   "cell_type": "code",
   "execution_count": 33,
   "metadata": {},
   "outputs": [],
   "source": [
    "#image combination\n",
    "subC=numpy.hstack((photo4, photo5, photo3, photo2))"
   ]
  },
  {
   "cell_type": "code",
   "execution_count": 34,
   "metadata": {},
   "outputs": [],
   "source": [
    "cv2.imshow('title', subC)\n",
    "cv2.waitKey()\n",
    "cv2.destroyAllWindows()\n"
   ]
  },
  {
   "cell_type": "code",
   "execution_count": null,
   "metadata": {},
   "outputs": [],
   "source": []
  },
  {
   "cell_type": "code",
   "execution_count": null,
   "metadata": {},
   "outputs": [],
   "source": []
  },
  {
   "cell_type": "code",
   "execution_count": 35,
   "metadata": {},
   "outputs": [
    {
     "data": {
      "text/plain": [
       "array([[[ 15,   4, 191],\n",
       "        [ 12,   2, 186],\n",
       "        [ 10,   0, 179],\n",
       "        ...,\n",
       "        [ 42,  52, 236],\n",
       "        [ 41,  52, 234],\n",
       "        [ 42,  52, 236]],\n",
       "\n",
       "       [[ 11,   1, 185],\n",
       "        [  9,   0, 181],\n",
       "        [  8,   0, 174],\n",
       "        ...,\n",
       "        [ 40,  48, 231],\n",
       "        [ 44,  55, 237],\n",
       "        [ 41,  49, 232]],\n",
       "\n",
       "       [[  7,   2, 177],\n",
       "        [  7,   3, 176],\n",
       "        [  7,   2, 171],\n",
       "        ...,\n",
       "        [ 35,  42, 223],\n",
       "        [ 38,  47, 228],\n",
       "        [ 40,  47, 228]],\n",
       "\n",
       "       ...,\n",
       "\n",
       "       [[ 15,  13,  13],\n",
       "        [  6,   4,   4],\n",
       "        [ 11,   9,   9],\n",
       "        ...,\n",
       "        [ 15,  13,  13],\n",
       "        [ 22,  20,  20],\n",
       "        [ 24,  22,  22]],\n",
       "\n",
       "       [[ 15,  13,  13],\n",
       "        [  3,   1,   1],\n",
       "        [ 13,  11,  11],\n",
       "        ...,\n",
       "        [ 18,  16,  16],\n",
       "        [ 30,  28,  28],\n",
       "        [ 34,  32,  32]],\n",
       "\n",
       "       [[ 25,  23,  23],\n",
       "        [ 12,  10,  10],\n",
       "        [ 24,  22,  22],\n",
       "        ...,\n",
       "        [ 15,  13,  13],\n",
       "        [ 28,  26,  26],\n",
       "        [ 22,  20,  20]]], dtype=uint8)"
      ]
     },
     "execution_count": 35,
     "metadata": {},
     "output_type": "execute_result"
    }
   ],
   "source": [
    "photo6.shape\n",
    "type(photo6)\n",
    "photo6"
   ]
  },
  {
   "cell_type": "code",
   "execution_count": 36,
   "metadata": {},
   "outputs": [],
   "source": [
    "#cv2.imshow('title', photo7)\n",
    "#cv2.waitKey()\n",
    "#cv2.destroyAllWindows()"
   ]
  },
  {
   "cell_type": "code",
   "execution_count": 37,
   "metadata": {},
   "outputs": [
    {
     "data": {
      "text/plain": [
       "(392, 247, 3)"
      ]
     },
     "execution_count": 37,
     "metadata": {},
     "output_type": "execute_result"
    }
   ],
   "source": [
    "photo7.shape"
   ]
  },
  {
   "cell_type": "code",
   "execution_count": 38,
   "metadata": {},
   "outputs": [],
   "source": [
    "#cv2.imshow('title', photo9)\n",
    "#cv2.waitKey()\n",
    "#cv2.destroyAllWindows()"
   ]
  },
  {
   "cell_type": "code",
   "execution_count": 39,
   "metadata": {},
   "outputs": [
    {
     "data": {
      "text/plain": [
       "(416, 233, 3)"
      ]
     },
     "execution_count": 39,
     "metadata": {},
     "output_type": "execute_result"
    }
   ],
   "source": [
    "photo8.shape"
   ]
  },
  {
   "cell_type": "code",
   "execution_count": null,
   "metadata": {},
   "outputs": [],
   "source": []
  },
  {
   "cell_type": "code",
   "execution_count": 40,
   "metadata": {},
   "outputs": [],
   "source": [
    "#cv2.circle(geneImg,(375, 175), 50, (0, 0, 0), 3)\n",
    "#cv2.circle(geneImg,(375, 575), 50, (0, 0, 0), -3)\n",
    "#cv2.ellipse(geneImg,( 200, 200 ), ( 100.0, 150.0 ), 45, 0, 360, ( 255, 0, 0 ), 3, 8 )\n",
    "#cv2.ellipse(geneImg,(375,225),(150,150),10,10,80,(0,0,0),-1)\n",
    "#cv2.ellipse(geneImg,(375,375),(300,300),100,100,60,(0,0,0),-1)\n",
    "#cv2.ellipse(geneImg, (250, 150), (80, 20), 1, 0, 360, (0,0,255), 1)  "
   ]
  }
 ],
 "metadata": {
  "kernelspec": {
   "display_name": "Python 3",
   "language": "python",
   "name": "python3"
  },
  "language_info": {
   "codemirror_mode": {
    "name": "ipython",
    "version": 3
   },
   "file_extension": ".py",
   "mimetype": "text/x-python",
   "name": "python",
   "nbconvert_exporter": "python",
   "pygments_lexer": "ipython3",
   "version": "3.7.6"
  }
 },
 "nbformat": 4,
 "nbformat_minor": 4
}
